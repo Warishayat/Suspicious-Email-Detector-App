{
 "cells": [
  {
   "cell_type": "code",
   "execution_count": 3,
   "metadata": {},
   "outputs": [],
   "source": [
    "import pandas as pd \n",
    "import numpy as np \n",
    "import matplotlib.pyplot as plt \n",
    "import seaborn as sns"
   ]
  },
  {
   "cell_type": "code",
   "execution_count": 8,
   "metadata": {},
   "outputs": [
    {
     "data": {
      "text/html": [
       "<div>\n",
       "<style scoped>\n",
       "    .dataframe tbody tr th:only-of-type {\n",
       "        vertical-align: middle;\n",
       "    }\n",
       "\n",
       "    .dataframe tbody tr th {\n",
       "        vertical-align: top;\n",
       "    }\n",
       "\n",
       "    .dataframe thead th {\n",
       "        text-align: right;\n",
       "    }\n",
       "</style>\n",
       "<table border=\"1\" class=\"dataframe\">\n",
       "  <thead>\n",
       "    <tr style=\"text-align: right;\">\n",
       "      <th></th>\n",
       "      <th>type</th>\n",
       "      <th>text</th>\n",
       "    </tr>\n",
       "  </thead>\n",
       "  <tbody>\n",
       "    <tr>\n",
       "      <th>170</th>\n",
       "      <td>ham</td>\n",
       "      <td>Yes :)it completely in out of form:)clark also...</td>\n",
       "    </tr>\n",
       "    <tr>\n",
       "      <th>293</th>\n",
       "      <td>ham</td>\n",
       "      <td>Oops. 4 got that bit.</td>\n",
       "    </tr>\n",
       "    <tr>\n",
       "      <th>50</th>\n",
       "      <td>ham</td>\n",
       "      <td>What you thinked about me. First time you saw ...</td>\n",
       "    </tr>\n",
       "    <tr>\n",
       "      <th>3965</th>\n",
       "      <td>ham</td>\n",
       "      <td>If e timing can, then i go w u lor...</td>\n",
       "    </tr>\n",
       "    <tr>\n",
       "      <th>4848</th>\n",
       "      <td>ham</td>\n",
       "      <td>I am in escape theatre now. . Going to watch K...</td>\n",
       "    </tr>\n",
       "    <tr>\n",
       "      <th>1425</th>\n",
       "      <td>ham</td>\n",
       "      <td>Yes.. now only saw your message..</td>\n",
       "    </tr>\n",
       "    <tr>\n",
       "      <th>1611</th>\n",
       "      <td>ham</td>\n",
       "      <td>I'll probably be around mu a lot</td>\n",
       "    </tr>\n",
       "    <tr>\n",
       "      <th>1081</th>\n",
       "      <td>ham</td>\n",
       "      <td>You tell what happen dont behave like this to ...</td>\n",
       "    </tr>\n",
       "    <tr>\n",
       "      <th>648</th>\n",
       "      <td>spam</td>\n",
       "      <td>PRIVATE! Your 2003 Account Statement for shows...</td>\n",
       "    </tr>\n",
       "    <tr>\n",
       "      <th>4211</th>\n",
       "      <td>ham</td>\n",
       "      <td>No da:)he is stupid da..always sending like th...</td>\n",
       "    </tr>\n",
       "  </tbody>\n",
       "</table>\n",
       "</div>"
      ],
      "text/plain": [
       "      type                                               text\n",
       "170    ham  Yes :)it completely in out of form:)clark also...\n",
       "293    ham                              Oops. 4 got that bit.\n",
       "50     ham  What you thinked about me. First time you saw ...\n",
       "3965   ham              If e timing can, then i go w u lor...\n",
       "4848   ham  I am in escape theatre now. . Going to watch K...\n",
       "1425   ham                  Yes.. now only saw your message..\n",
       "1611   ham                   I'll probably be around mu a lot\n",
       "1081   ham  You tell what happen dont behave like this to ...\n",
       "648   spam  PRIVATE! Your 2003 Account Statement for shows...\n",
       "4211   ham  No da:)he is stupid da..always sending like th..."
      ]
     },
     "execution_count": 8,
     "metadata": {},
     "output_type": "execute_result"
    }
   ],
   "source": [
    "df = pd.read_csv(r\"C:\\Users\\HP\\Desktop\\60-Days-Challange\\Project3\\sms_spam.csv\")\n",
    "df.sample(10)"
   ]
  },
  {
   "cell_type": "code",
   "execution_count": 9,
   "metadata": {},
   "outputs": [
    {
     "data": {
      "text/plain": [
       "Index(['type', 'text'], dtype='object')"
      ]
     },
     "execution_count": 9,
     "metadata": {},
     "output_type": "execute_result"
    }
   ],
   "source": [
    "df.columns"
   ]
  },
  {
   "cell_type": "code",
   "execution_count": 11,
   "metadata": {},
   "outputs": [
    {
     "data": {
      "text/plain": [
       "<Axes: xlabel='type'>"
      ]
     },
     "execution_count": 11,
     "metadata": {},
     "output_type": "execute_result"
    },
    {
     "data": {
      "image/png": "[encoded data removed]",
      "text/plain": [
       "<Figure size 640x480 with 1 Axes>"
      ]
     },
     "metadata": {},
     "output_type": "display_data"
    }
   ],
   "source": [
    "df[\"type\"].value_counts().plot(kind=\"bar\")"
   ]
  },
  {
   "cell_type": "code",
   "execution_count": 12,
   "metadata": {},
   "outputs": [],
   "source": [
    "#although spam message are less keep in mind"
   ]
  },
  {
   "cell_type": "code",
   "execution_count": 13,
   "metadata": {},
   "outputs": [
    {
     "name": "stdout",
     "output_type": "stream",
     "text": [
      "<class 'pandas.core.frame.DataFrame'>\n",
      "RangeIndex: 5574 entries, 0 to 5573\n",
      "Data columns (total 2 columns):\n",
      " #   Column  Non-Null Count  Dtype \n",
      "---  ------  --------------  ----- \n",
      " 0   type    5574 non-null   object\n",
      " 1   text    5574 non-null   object\n",
      "dtypes: object(2)\n",
      "memory usage: 87.2+ KB\n"
     ]
    }
   ],
   "source": [
    "df.info()"
   ]
  },
  {
   "cell_type": "code",
   "execution_count": 16,
   "metadata": {},
   "outputs": [
    {
     "data": {
      "text/plain": [
       "385     1\n",
       "1321    0\n",
       "5049    0\n",
       "4721    0\n",
       "4842    0\n",
       "2547    0\n",
       "5263    0\n",
       "1149    0\n",
       "296     1\n",
       "1003    0\n",
       "Name: type, dtype: int64"
      ]
     },
     "execution_count": 16,
     "metadata": {},
     "output_type": "execute_result"
    }
   ],
   "source": [
    "from sklearn.preprocessing import LabelEncoder\n",
    "encoder = LabelEncoder()\n",
    "df[\"type\"] = encoder.fit_transform(df[\"type\"])\n",
    "df[\"type\"].sample(10)"
   ]
  },
  {
   "cell_type": "code",
   "execution_count": 18,
   "metadata": {},
   "outputs": [
    {
     "data": {
      "text/html": [
       "<div>\n",
       "<style scoped>\n",
       "    .dataframe tbody tr th:only-of-type {\n",
       "        vertical-align: middle;\n",
       "    }\n",
       "\n",
       "    .dataframe tbody tr th {\n",
       "        vertical-align: top;\n",
       "    }\n",
       "\n",
       "    .dataframe thead th {\n",
       "        text-align: right;\n",
       "    }\n",
       "</style>\n",
       "<table border=\"1\" class=\"dataframe\">\n",
       "  <thead>\n",
       "    <tr style=\"text-align: right;\">\n",
       "      <th></th>\n",
       "      <th>type</th>\n",
       "      <th>text</th>\n",
       "    </tr>\n",
       "  </thead>\n",
       "  <tbody>\n",
       "    <tr>\n",
       "      <th>0</th>\n",
       "      <td>0</td>\n",
       "      <td>Go until jurong point, crazy.. Available only ...</td>\n",
       "    </tr>\n",
       "    <tr>\n",
       "      <th>1</th>\n",
       "      <td>0</td>\n",
       "      <td>Ok lar... Joking wif u oni...</td>\n",
       "    </tr>\n",
       "    <tr>\n",
       "      <th>2</th>\n",
       "      <td>1</td>\n",
       "      <td>Free entry in 2 a wkly comp to win FA Cup fina...</td>\n",
       "    </tr>\n",
       "    <tr>\n",
       "      <th>3</th>\n",
       "      <td>0</td>\n",
       "      <td>U dun say so early hor... U c already then say...</td>\n",
       "    </tr>\n",
       "    <tr>\n",
       "      <th>4</th>\n",
       "      <td>0</td>\n",
       "      <td>Nah I don't think he goes to usf, he lives aro...</td>\n",
       "    </tr>\n",
       "    <tr>\n",
       "      <th>5</th>\n",
       "      <td>1</td>\n",
       "      <td>FreeMsg Hey there darling it's been 3 week's n...</td>\n",
       "    </tr>\n",
       "    <tr>\n",
       "      <th>6</th>\n",
       "      <td>0</td>\n",
       "      <td>Even my brother is not like to speak with me. ...</td>\n",
       "    </tr>\n",
       "    <tr>\n",
       "      <th>7</th>\n",
       "      <td>0</td>\n",
       "      <td>As per your request 'Melle Melle (Oru Minnamin...</td>\n",
       "    </tr>\n",
       "    <tr>\n",
       "      <th>8</th>\n",
       "      <td>1</td>\n",
       "      <td>WINNER!! As a valued network customer you have...</td>\n",
       "    </tr>\n",
       "    <tr>\n",
       "      <th>9</th>\n",
       "      <td>1</td>\n",
       "      <td>Had your mobile 11 months or more? U R entitle...</td>\n",
       "    </tr>\n",
       "  </tbody>\n",
       "</table>\n",
       "</div>"
      ],
      "text/plain": [
       "   type                                               text\n",
       "0     0  Go until jurong point, crazy.. Available only ...\n",
       "1     0                      Ok lar... Joking wif u oni...\n",
       "2     1  Free entry in 2 a wkly comp to win FA Cup fina...\n",
       "3     0  U dun say so early hor... U c already then say...\n",
       "4     0  Nah I don't think he goes to usf, he lives aro...\n",
       "5     1  FreeMsg Hey there darling it's been 3 week's n...\n",
       "6     0  Even my brother is not like to speak with me. ...\n",
       "7     0  As per your request 'Melle Melle (Oru Minnamin...\n",
       "8     1  WINNER!! As a valued network customer you have...\n",
       "9     1  Had your mobile 11 months or more? U R entitle..."
      ]
     },
     "execution_count": 18,
     "metadata": {},
     "output_type": "execute_result"
    }
   ],
   "source": [
    "df.head(10)"
   ]
  },
  {
   "cell_type": "code",
   "execution_count": 19,
   "metadata": {},
   "outputs": [
    {
     "name": "stdout",
     "output_type": "stream",
     "text": [
      "Requirement already satisfied: nltk in c:\\users\\hp\\anaconda3\\lib\\site-packages (3.9.1)\n",
      "Requirement already satisfied: click in c:\\users\\hp\\anaconda3\\lib\\site-packages (from nltk) (8.1.7)\n",
      "Requirement already satisfied: joblib in c:\\users\\hp\\anaconda3\\lib\\site-packages (from nltk) (1.4.2)\n",
      "Requirement already satisfied: regex>=2021.8.3 in c:\\users\\hp\\anaconda3\\lib\\site-packages (from nltk) (2024.9.11)\n",
      "Requirement already satisfied: tqdm in c:\\users\\hp\\anaconda3\\lib\\site-packages (from nltk) (4.66.5)\n",
      "Requirement already satisfied: colorama in c:\\users\\hp\\anaconda3\\lib\\site-packages (from click->nltk) (0.4.6)\n"
     ]
    }
   ],
   "source": [
    "#preprocess the data\n",
    "!pip install nltk"
   ]
  },
  {
   "cell_type": "code",
   "execution_count": 31,
   "metadata": {},
   "outputs": [
    {
     "data": {
      "text/plain": [
       "{'hello': 'A greeting or expression of goodwill',\n",
       " 'brb': 'Be right back',\n",
       " 'lol': 'Laugh out loud',\n",
       " 'omg': 'Oh my God',\n",
       " 'idk': \"I don't know\",\n",
       " 'btw': 'By the way',\n",
       " 'gtg': 'Got to go',\n",
       " 'ttyl': 'Talk to you later',\n",
       " 'np': 'No problem',\n",
       " 'thx': 'Thanks',\n",
       " 'yw': \"You're welcome\",\n",
       " 'imo': 'In my opinion',\n",
       " 'fyi': 'For your information',\n",
       " 'asap': 'As soon as possible',\n",
       " 'bff': 'Best friends forever',\n",
       " 'tbh': 'To be honest',\n",
       " 'smh': 'Shaking my head',\n",
       " 'afaik': 'As far as I know',\n",
       " 'irl': 'In real life',\n",
       " 'dm': 'Direct message',\n",
       " 'rofl': 'Rolling on the floor laughing',\n",
       " 'lmao': 'Laughing my ass off',\n",
       " 'bbl': 'Be back later',\n",
       " 'gr8': 'Great',\n",
       " 'jk': 'Just kidding',\n",
       " 'nvm': 'Never mind',\n",
       " 'omw': 'On my way',\n",
       " 'ppl': 'People',\n",
       " 'pls': 'Please',\n",
       " 'u': 'You',\n",
       " 'ur': 'Your',\n",
       " 'w/e': 'Whatever',\n",
       " 'w/o': 'Without',\n",
       " 'w8': 'Wait',\n",
       " 'xoxo': 'Hugs and kisses',\n",
       " 'yolo': 'You only live once',\n",
       " 'b4': 'Before',\n",
       " 'cya': 'See you',\n",
       " 'ez': 'Easy',\n",
       " 'faq': 'Frequently asked questions',\n",
       " 'ftw': 'For the win',\n",
       " 'gg': 'Good game',\n",
       " 'gl': 'Good luck',\n",
       " 'hf': 'Have fun',\n",
       " 'hmu': 'Hit me up',\n",
       " 'ic': 'I see',\n",
       " 'k': 'Okay',\n",
       " 'lmk': 'Let me know',\n",
       " 'msg': 'Message',\n",
       " 'n/a': 'Not applicable',\n",
       " 'plz': 'Please',\n",
       " 'q': 'Question',\n",
       " 'r': 'Are',\n",
       " 'rn': 'Right now',\n",
       " 'sry': 'Sorry',\n",
       " 'tba': 'To be announced',\n",
       " 'tbd': 'To be decided',\n",
       " 'tgif': \"Thank God it's Friday\",\n",
       " 'w/': 'With'}"
      ]
     },
     "execution_count": 31,
     "metadata": {},
     "output_type": "execute_result"
    }
   ],
   "source": [
    "#chatwords \n",
    "chat_words_dict = {\n",
    "    \"hello\": \"A greeting or expression of goodwill\",\n",
    "    \"brb\": \"Be right back\",\n",
    "    \"lol\": \"Laugh out loud\",\n",
    "    \"omg\": \"Oh my God\",\n",
    "    \"idk\": \"I don't know\",\n",
    "    \"btw\": \"By the way\",\n",
    "    \"gtg\": \"Got to go\",\n",
    "    \"ttyl\": \"Talk to you later\",\n",
    "    \"np\": \"No problem\",\n",
    "    \"thx\": \"Thanks\",\n",
    "    \"yw\": \"You're welcome\",\n",
    "    \"imo\": \"In my opinion\",\n",
    "    \"fyi\": \"For your information\",\n",
    "    \"asap\": \"As soon as possible\",\n",
    "    \"bff\": \"Best friends forever\",\n",
    "    \"tbh\": \"To be honest\",\n",
    "    \"smh\": \"Shaking my head\",\n",
    "    \"afaik\": \"As far as I know\",\n",
    "    \"irl\": \"In real life\",\n",
    "    \"dm\": \"Direct message\",\n",
    "    \"rofl\": \"Rolling on the floor laughing\",\n",
    "    \"lmao\": \"Laughing my ass off\",\n",
    "    \"bbl\": \"Be back later\",\n",
    "    \"gr8\": \"Great\",\n",
    "    \"jk\": \"Just kidding\",\n",
    "    \"nvm\": \"Never mind\",\n",
    "    \"omw\": \"On my way\",\n",
    "    \"ppl\": \"People\",\n",
    "    \"pls\": \"Please\",\n",
    "    \"thx\": \"Thanks\",\n",
    "    \"u\": \"You\",\n",
    "    \"ur\": \"Your\",\n",
    "    \"w/e\": \"Whatever\",\n",
    "    \"w/o\": \"Without\",\n",
    "    \"w8\": \"Wait\",\n",
    "    \"xoxo\": \"Hugs and kisses\",\n",
    "    \"yolo\": \"You only live once\",\n",
    "    \"b4\": \"Before\",\n",
    "    \"cya\": \"See you\",\n",
    "    \"ez\": \"Easy\",\n",
    "    \"faq\": \"Frequently asked questions\",\n",
    "    \"ftw\": \"For the win\",\n",
    "    \"gg\": \"Good game\",\n",
    "    \"gl\": \"Good luck\",\n",
    "    \"hf\": \"Have fun\",\n",
    "    \"hmu\": \"Hit me up\",\n",
    "    \"ic\": \"I see\",\n",
    "    \"imo\": \"In my opinion\",\n",
    "    \"irl\": \"In real life\",\n",
    "    \"jk\": \"Just kidding\",\n",
    "    \"k\": \"Okay\",\n",
    "    \"lmk\": \"Let me know\",\n",
    "    \"msg\": \"Message\",\n",
    "    \"n/a\": \"Not applicable\",\n",
    "    \"np\": \"No problem\",\n",
    "    \"omg\": \"Oh my God\",\n",
    "    \"plz\": \"Please\",\n",
    "    \"q\": \"Question\",\n",
    "    \"r\": \"Are\",\n",
    "    \"rn\": \"Right now\",\n",
    "    \"sry\": \"Sorry\",\n",
    "    \"tba\": \"To be announced\",\n",
    "    \"tbd\": \"To be decided\",\n",
    "    \"tgif\": \"Thank God it's Friday\",\n",
    "    \"thx\": \"Thanks\",\n",
    "    \"ttyl\": \"Talk to you later\",\n",
    "    \"u\": \"You\",\n",
    "    \"ur\": \"Your\",\n",
    "    \"w/\": \"With\",\n",
    "    \"w/o\": \"Without\",\n",
    "    \"w8\": \"Wait\",\n",
    "    \"xoxo\": \"Hugs and kisses\",\n",
    "    \"yolo\": \"You only live once\",\n",
    "    \"b4\": \"Before\",\n",
    "    \"cya\": \"See you\",\n",
    "    \"ez\": \"Easy\",\n",
    "    \"faq\": \"Frequently asked questions\",\n",
    "    \"ftw\": \"For the win\",\n",
    "    \"gg\": \"Good game\",\n",
    "    \"gl\": \"Good luck\",\n",
    "    \"hf\": \"Have fun\",\n",
    "    \"hmu\": \"Hit me up\",\n",
    "    \"ic\": \"I see\",\n",
    "    \"imo\": \"In my opinion\",\n",
    "    \"irl\": \"In real life\",\n",
    "    \"jk\": \"Just kidding\",\n",
    "    \"k\": \"Okay\",\n",
    "    \"lmk\": \"Let me know\",\n",
    "    \"msg\": \"Message\",\n",
    "    \"n/a\": \"Not applicable\",\n",
    "    \"np\": \"No problem\",\n",
    "    \"omg\": \"Oh my God\",\n",
    "    \"plz\": \"Please\",\n",
    "    \"q\": \"Question\",\n",
    "    \"r\": \"Are\",\n",
    "    \"rn\": \"Right now\",\n",
    "    \"sry\": \"Sorry\",\n",
    "    \"tba\": \"To be announced\",\n",
    "    \"tbd\": \"To be decided\",\n",
    "    \"tgif\": \"Thank God it's Friday\",\n",
    "    \"thx\": \"Thanks\",\n",
    "    \"ttyl\": \"Talk to you later\",\n",
    "    \"u\": \"You\",\n",
    "    \"ur\": \"Your\",\n",
    "    \"w/\": \"With\",\n",
    "    \"w/o\": \"Without\",\n",
    "    \"w8\": \"Wait\",\n",
    "    \"xoxo\": \"Hugs and kisses\",\n",
    "    \"yolo\": \"You only live once\"\n",
    "}\n",
    "chat_words_dict"
   ]
  },
  {
   "cell_type": "code",
   "execution_count": 50,
   "metadata": {},
   "outputs": [
    {
     "name": "stderr",
     "output_type": "stream",
     "text": [
      "[nltk_data] Downloading package stopwords to\n",
      "[nltk_data]     C:\\Users\\HP\\AppData\\Roaming\\nltk_data...\n",
      "[nltk_data]   Unzipping corpora\\stopwords.zip.\n"
     ]
    },
    {
     "name": "stdout",
     "output_type": "stream",
     "text": [
      "name waris hayat google engineer\n"
     ]
    }
   ],
   "source": [
    "# #chatword treatment \n",
    "from nltk.corpus import stopwords\n",
    "# stopwords.words(\"english\")\n",
    "# def chatwordTreatment(text):\n",
    "#         corpus=[]\n",
    "#         for i in text.split():\n",
    "#             if i in chat_words_dict:\n",
    "#                 corpus.append(chat_words_dict[i])\n",
    "#             else:\n",
    "#                 corpus.append(i)\n",
    "#         return \" \".join(corpus)\n",
    "# text=\"lmao I AM CALLING YOU @FROM HEALTH CARE BENEFIT @salam a#abdul bhai\"\n",
    "# text = chatwordTreatment(text)\n",
    "# print(text)\n",
    "\n",
    "import nltk\n",
    "def removeStopwords(text):\n",
    "    corpas=[]\n",
    "    for word in text.split():\n",
    "        if word not in stopwords.words(\"english\"):\n",
    "              corpas.append(word)\n",
    "        else:\n",
    "            pass\n",
    "    return \" \".join(corpas)\n",
    "\n",
    "text = \"my name is waris hayat from google engineer\"\n",
    "nltk.download('stopwords')\n",
    "print(removeStopwords(text))"
   ]
  },
  {
   "cell_type": "code",
   "execution_count": 39,
   "metadata": {},
   "outputs": [
    {
     "name": "stdout",
     "output_type": "stream",
     "text": [
      "Collecting textblob\n",
      "  Downloading textblob-0.19.0-py3-none-any.whl.metadata (4.4 kB)\n",
      "Requirement already satisfied: nltk>=3.9 in c:\\users\\hp\\anaconda3\\lib\\site-packages (from textblob) (3.9.1)\n",
      "Requirement already satisfied: click in c:\\users\\hp\\anaconda3\\lib\\site-packages (from nltk>=3.9->textblob) (8.1.7)\n",
      "Requirement already satisfied: joblib in c:\\users\\hp\\anaconda3\\lib\\site-packages (from nltk>=3.9->textblob) (1.4.2)\n",
      "Requirement already satisfied: regex>=2021.8.3 in c:\\users\\hp\\anaconda3\\lib\\site-packages (from nltk>=3.9->textblob) (2024.9.11)\n",
      "Requirement already satisfied: tqdm in c:\\users\\hp\\anaconda3\\lib\\site-packages (from nltk>=3.9->textblob) (4.66.5)\n",
      "Requirement already satisfied: colorama in c:\\users\\hp\\anaconda3\\lib\\site-packages (from click->nltk>=3.9->textblob) (0.4.6)\n",
      "Downloading textblob-0.19.0-py3-none-any.whl (624 kB)\n",
      "   ---------------------------------------- 0.0/624.3 kB ? eta -:--:--\n",
      "   ---------------------------------------- 0.0/624.3 kB ? eta -:--:--\n",
      "   ---------------- ----------------------- 262.1/624.3 kB ? eta -:--:--\n",
      "   ---------------- ----------------------- 262.1/624.3 kB ? eta -:--:--\n",
      "   -------------------------------------- 624.3/624.3 kB 828.7 kB/s eta 0:00:00\n",
      "Installing collected packages: textblob\n",
      "Successfully installed textblob-0.19.0\n"
     ]
    }
   ],
   "source": [
    "!pip install textblob"
   ]
  },
  {
   "cell_type": "code",
   "execution_count": null,
   "metadata": {},
   "outputs": [
    {
     "data": {
      "text/plain": [
       "'may i am calling you from health care benefit slam aabdul that'"
      ]
     },
     "execution_count": 46,
     "metadata": {},
     "output_type": "execute_result"
    }
   ],
   "source": [
    "from nltk.stem import PorterStemmer\n",
    "import string as st\n",
    "from nltk.corpus import stopwords\n",
    "from textblob import TextBlob\n",
    "def preprocess_sentense(text):\n",
    "\n",
    "    text = text.lower()  #convert textt into lower\n",
    "\n",
    "    #remove punctuation\n",
    "    text =  \"\".join(filter(lambda char:char not in st.punctuation,text))\n",
    "\n",
    "    #spellling correction\n",
    "    incorrect_sentence=text\n",
    "\n",
    "    correctcion = TextBlob(incorrect_sentence)\n",
    "\n",
    "    text=correctcion.correct().string \n",
    "\n",
    "    \n",
    "\n",
    "\n",
    "\n",
    "    return \"\".join(text)\n",
    "preprocess_sentense(\"lmao I AM CALLNG YOU @FROM HaeLTH CARE BENEFIT @salam a#abdul bhai\")"
   ]
  },
  {
   "cell_type": "code",
   "execution_count": null,
   "metadata": {},
   "outputs": [],
   "source": [
    "#"
   ]
  },
  {
   "cell_type": "code",
   "execution_count": null,
   "metadata": {},
   "outputs": [],
   "source": []
  },
  {
   "cell_type": "code",
   "execution_count": null,
   "metadata": {},
   "outputs": [],
   "source": []
  }
 ],
 "metadata": {
  "kernelspec": {
   "display_name": "base",
   "language": "python",
   "name": "python3"
  },
  "language_info": {
   "codemirror_mode": {
    "name": "ipython",
    "version": 3
   },
   "file_extension": ".py",
   "mimetype": "text/x-python",
   "name": "python",
   "nbconvert_exporter": "python",
   "pygments_lexer": "ipython3",
   "version": "3.12.7"
  }
 },
 "nbformat": 4,
 "nbformat_minor": 2
}
